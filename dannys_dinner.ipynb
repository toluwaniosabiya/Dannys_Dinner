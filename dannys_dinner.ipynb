{
 "cells": [
  {
   "attachments": {},
   "cell_type": "markdown",
   "id": "f1237b39",
   "metadata": {},
   "source": [
    "# Note\n",
    "\n",
    "It is advisable to go to the url stated in the code explanations (https://8weeksqlchallenge.com/case-study-1/) to get the sql queries that will create the database schema and tables in a proper DBMS such as postgres.\n",
    "\n",
    "However, an alternative approach is to run this .ipynb file to create the database using sqlite3. Please note, however, that with a local database host such as sqlite3, you cannot create a \"schema\" in the traditional sense of the word. Hence, you will need to delete \"dannys_diner\" from all the queries wherever it is coupled to a table name For example, you have to render \"dannys_diner.sales\" as just \"sales\" since the schema was never created.\n",
    "\n",
    "After running this .ipynb file, a \"dannys_dinner.db\" file in the same directory that you run this .ipynb file in, which you can then open up with any suitable tool to render the sql queries."
   ]
  },
  {
   "cell_type": "code",
   "execution_count": 1,
   "id": "866ec71f",
   "metadata": {},
   "outputs": [],
   "source": [
    "import sqlite3"
   ]
  },
  {
   "cell_type": "code",
   "execution_count": 2,
   "id": "217b6b58",
   "metadata": {},
   "outputs": [],
   "source": [
    "conn=sqlite3.connect('dannys_dinner.db')\n",
    "c=conn.cursor()"
   ]
  },
  {
   "cell_type": "code",
   "execution_count": 6,
   "id": "7b5a381f",
   "metadata": {},
   "outputs": [],
   "source": [
    "c.execute(\"\"\"\n",
    "CREATE TABLE sales (\n",
    "  \"customer_id\" VARCHAR(1),\n",
    "  \"order_date\" DATE,\n",
    "  \"product_id\" INTEGER\n",
    ");\"\"\")\n",
    "\n",
    "c.execute(\"\"\"\n",
    "INSERT INTO sales\n",
    "  (\"customer_id\", \"order_date\", \"product_id\")\n",
    "VALUES\n",
    "  ('A', '2021-01-01', '1'),\n",
    "  ('A', '2021-01-01', '2'),\n",
    "  ('A', '2021-01-07', '2'),\n",
    "  ('A', '2021-01-10', '3'),\n",
    "  ('A', '2021-01-11', '3'),\n",
    "  ('A', '2021-01-11', '3'),\n",
    "  ('B', '2021-01-01', '2'),\n",
    "  ('B', '2021-01-02', '2'),\n",
    "  ('B', '2021-01-04', '1'),\n",
    "  ('B', '2021-01-11', '1'),\n",
    "  ('B', '2021-01-16', '3'),\n",
    "  ('B', '2021-02-01', '3'),\n",
    "  ('C', '2021-01-01', '3'),\n",
    "  ('C', '2021-01-01', '3'),\n",
    "  ('C', '2021-01-07', '3');\n",
    "\"\"\") \n",
    "\n",
    "c.execute(\"\"\"\n",
    "CREATE TABLE menu (\n",
    "  \"product_id\" INTEGER,\n",
    "  \"product_name\" VARCHAR(5),\n",
    "  \"price\" INTEGER\n",
    ");\"\"\")\n",
    "\n",
    "c.execute(\"\"\"\n",
    "INSERT INTO menu\n",
    "  (\"product_id\", \"product_name\", \"price\")\n",
    "VALUES\n",
    "  ('1', 'sushi', '10'),\n",
    "  ('2', 'curry', '15'),\n",
    "  ('3', 'ramen', '12');\n",
    "\"\"\")  \n",
    "\n",
    "c.execute(\"\"\"\n",
    "CREATE TABLE members (\n",
    "  \"customer_id\" VARCHAR(1),\n",
    "  \"join_date\" DATE\n",
    ");\"\"\")\n",
    "\n",
    "c.execute(\"\"\"\n",
    "INSERT INTO members\n",
    "  (\"customer_id\", \"join_date\")\n",
    "VALUES\n",
    "  ('A', '2021-01-07'),\n",
    "  ('B', '2021-01-09');\n",
    "\"\"\")\n",
    "\n",
    "conn.commit()\n",
    "conn.close()"
   ]
  }
 ],
 "metadata": {
  "kernelspec": {
   "display_name": "Python 3",
   "language": "python",
   "name": "python3"
  },
  "language_info": {
   "codemirror_mode": {
    "name": "ipython",
    "version": 3
   },
   "file_extension": ".py",
   "mimetype": "text/x-python",
   "name": "python",
   "nbconvert_exporter": "python",
   "pygments_lexer": "ipython3",
   "version": "3.11.1"
  },
  "vscode": {
   "interpreter": {
    "hash": "aee8b7b246df8f9039afb4144a1f6fd8d2ca17a180786b69acc140d282b71a49"
   }
  }
 },
 "nbformat": 4,
 "nbformat_minor": 5
}
